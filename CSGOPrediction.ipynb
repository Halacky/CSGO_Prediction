{
  "nbformat": 4,
  "nbformat_minor": 0,
  "metadata": {
    "colab": {
      "provenance": []
    },
    "kernelspec": {
      "name": "python3",
      "display_name": "Python 3"
    },
    "language_info": {
      "name": "python"
    }
  },
  "cells": [
    {
      "cell_type": "code",
      "execution_count": 5,
      "metadata": {
        "id": "M_ktnmmF7zaZ"
      },
      "outputs": [],
      "source": [
        "import pandas as pd\n",
        "import numpy as np\n",
        "import seaborn as sns\n",
        "from sklearn.linear_model import LinearRegression\n",
        "from sklearn.model_selection import train_test_split\n",
        "from sklearn import metrics\n",
        "from sklearn.ensemble import RandomForestRegressor\n",
        "from xgboost import XGBRegressor\n",
        "from sklearn.preprocessing import StandardScaler\n",
        "from sklearn import svm\n",
        "import xgboost as xgb\n",
        "from sklearn.ensemble import GradientBoostingRegressor\n",
        "import lightgbm\n",
        "from sklearn.compose import TransformedTargetRegressor\n",
        "from sklearn.preprocessing import QuantileTransformer\n",
        "import lightgbm as lgbm\n",
        "from sklearn import preprocessing\n",
        "from sklearn.model_selection import GridSearchCV\n",
        "import statistics"
      ]
    },
    {
      "cell_type": "markdown",
      "source": [
        "# Здесь были исследования (можно не смотреть)\n"
      ],
      "metadata": {
        "id": "KzIklAvX3Sbo"
      }
    },
    {
      "cell_type": "code",
      "source": [
        "feats = pd.read_csv('/content/players_feats.csv')\n",
        "train = pd.read_csv('/content/train.csv')\n",
        "\n",
        "feats['who_win'] = 0\n",
        "map_names = feats['map_name'].unique()\n",
        "print(map_names)\n",
        "map_dict = {\n",
        "    'Ancient': 0, \n",
        "    'Dust2': 1, \n",
        "    'Mirage': 2,\n",
        "    'Inferno': 3,\n",
        "    'Nuke': 4,\n",
        "    'Overpass':5,\n",
        "    'Vertigo': 6\n",
        "}\n",
        "feats['map_name'] = feats['map_name'].map(map_dict).fillna(7)\n",
        "\n",
        "for match in train.iterrows():\n",
        "  match_info = list(match[1])\n",
        "  team2_id = int(match_info[2])\n",
        "  map_id = int(match_info[0])\n",
        "  who_win = int(train[train['map_id'] == map_id]['who_win'])\n",
        "  if who_win == 1:\n",
        "    feats.loc[(feats['map_id'] == map_id) & (feats['team_id'] == team2_id), 'who_win'] = 1\n",
        "\n",
        "X = feats[np.isfinite(feats).all(1)]\n",
        "y = X['who_win'].values\n",
        "maps_id = X['map_id']\n",
        "teams_id = X['team_id']\n",
        "X1 = X.values #returns a numpy array\n",
        "min_max_scaler = preprocessing.MinMaxScaler()\n",
        "x_scaled = min_max_scaler.fit_transform(X1)\n",
        "df = pd.DataFrame(x_scaled)\n",
        "df.columns = feats.columns\n",
        "X_new = df.drop(['who_win','p1_id','p2_id','p3_id','p4_id','p5_id'], axis = 1)\n",
        "X_new['map_id'] = maps_id\n",
        "X_new['team_id'] = teams_id\n",
        "\n",
        "# X_new['map_id'].replace('', np.nan, inplace=True)\n",
        "# X_new.dropna(subset=['map_id'], inplace=True)\n",
        "# y = X_new['who_win'].values\n",
        "# X_new = X_new.drop(['who_win'], axis = 1)\n",
        "print(len(y))\n",
        "print(len(X_new))\n",
        "\n",
        "# X_new.drop(X_new[X_new.map_id.value_counts() == 1].index, inplace=True)\n",
        "\n",
        "# sns.pairplot(data=X_new, diag_kind='kde')\n",
        "# X_new.to_excel('tr1.xlsx')"
      ],
      "metadata": {
        "colab": {
          "base_uri": "https://localhost:8080/"
        },
        "id": "WvoYDTUXSrE3",
        "outputId": "ddc39006-87c1-47c7-f0c6-ca14176e5d10"
      },
      "execution_count": 6,
      "outputs": [
        {
          "output_type": "stream",
          "name": "stdout",
          "text": [
            "['Ancient' 'Dust2' 'Mirage' 'Inferno' 'Nuke' 'Overpass' 'Vertigo']\n",
            "1470\n",
            "1470\n"
          ]
        }
      ]
    },
    {
      "cell_type": "code",
      "source": [
        "X_train, X_test, y_train, y_test = train_test_split(X_new,y, test_size = 0.2, random_state = 42)\n",
        "\n",
        "#Create a XGBoost Regressor\n",
        "reg = xgb.XGBRegressor(objective=\"reg:linear\", random_state=42)\n",
        "\n",
        "# reg = RandomForestRegressor()\n",
        "\n",
        "# sc = StandardScaler()\n",
        "# X_train = sc.fit_transform(X_train)\n",
        "# reg = svm.SVR()\n",
        "\n",
        "# # Train the model using the training sets \n",
        "reg.fit(X_train, y_train)\n",
        "\n",
        "# # Model prediction on train data\n",
        "y_pred = reg.predict(X_train)"
      ],
      "metadata": {
        "colab": {
          "base_uri": "https://localhost:8080/"
        },
        "id": "P07Cf25uk3s4",
        "outputId": "abc5ba5f-bdd3-488d-af0d-f99bab85588b"
      },
      "execution_count": 7,
      "outputs": [
        {
          "output_type": "stream",
          "name": "stdout",
          "text": [
            "[03:05:31] WARNING: /workspace/src/objective/regression_obj.cu:152: reg:linear is now deprecated in favor of reg:squarederror.\n"
          ]
        }
      ]
    },
    {
      "cell_type": "code",
      "source": [
        "def boost_models(x):\n",
        "    #transforming target variable through quantile transformer\n",
        "    regr_trans = TransformedTargetRegressor(regressor=x, transformer=QuantileTransformer(output_distribution='normal'))\n",
        "    regr_trans.fit(X_train, y_train)\n",
        "    yhat = regr_trans.predict(X_test)\n",
        "    algoname= x.__class__.__name__\n",
        "    return algoname, round(metrics.r2_score(y_test, yhat),3), round(metrics.mean_absolute_error(y_test, yhat),2), round(np.sqrt(metrics.mean_squared_error(y_test, yhat)),2), round(metrics.roc_auc_score(y_test, yhat),2)\n",
        "\n",
        "algo=[GradientBoostingRegressor(), lgbm.LGBMRegressor(), xgb.XGBRFRegressor()]\n",
        "score=[]\n",
        "for a in algo:\n",
        "    score.append(boost_models(a))\n",
        "\n",
        "pd.DataFrame(score, columns=['Model', 'Score', 'MAE', 'RMSE', 'ROC-AUC'])"
      ],
      "metadata": {
        "id": "x6_ZkgHe5wlV"
      },
      "execution_count": null,
      "outputs": []
    },
    {
      "cell_type": "code",
      "source": [
        "param_grid = {'n_estimators': [100, 80, 60, 55, 51, 45],  \n",
        "              'max_depth': [7, 8],\n",
        "              'reg_lambda' :[0.26, 0.25, 0.2]\n",
        "             }\n",
        "                \n",
        "grid = GridSearchCV(xgb.XGBRFRegressor(), param_grid, refit = True, verbose = 3, n_jobs=-1) #\n",
        "regr_trans = TransformedTargetRegressor(regressor=grid, transformer=QuantileTransformer(output_distribution='normal'))\n",
        "\n",
        "# fitting the model for grid search \n",
        "grid_result=regr_trans.fit(X_train, y_train)\n",
        "best_params=grid_result.regressor_.best_params_\n",
        "print(best_params)\n",
        "\n",
        "#using best params to create and fit model\n",
        "best_model = xgb.XGBRFRegressor(max_depth=best_params[\"max_depth\"], n_estimators=best_params[\"n_estimators\"], reg_lambda=best_params[\"reg_lambda\"])\n",
        "regr_trans = TransformedTargetRegressor(regressor=best_model, transformer=QuantileTransformer(output_distribution='normal'))\n",
        "regr_trans.fit(X_train, y_train)\n",
        "yhat = regr_trans.predict(X_test)\n",
        "\n",
        "#evaluate metrics\n",
        "metrics.r2_score(y_test, yhat), metrics.mean_absolute_error(y_test, yhat), np.sqrt(metrics.mean_squared_error(y_test, yhat)), metrics.roc_auc_score(y_test, yhat)"
      ],
      "metadata": {
        "colab": {
          "base_uri": "https://localhost:8080/"
        },
        "id": "biHRlX6s8EHA",
        "outputId": "164f7f3f-0a79-45ab-e700-c6b84e1bd3df"
      },
      "execution_count": null,
      "outputs": [
        {
          "output_type": "stream",
          "name": "stdout",
          "text": [
            "Fitting 5 folds for each of 36 candidates, totalling 180 fits\n",
            "[12:25:14] WARNING: /workspace/src/objective/regression_obj.cu:152: reg:linear is now deprecated in favor of reg:squarederror.\n",
            "{'max_depth': 7, 'n_estimators': 100, 'reg_lambda': 0.2}\n",
            "[12:25:15] WARNING: /workspace/src/objective/regression_obj.cu:152: reg:linear is now deprecated in favor of reg:squarederror.\n"
          ]
        },
        {
          "output_type": "execute_result",
          "data": {
            "text/plain": [
              "(-0.2930555555555556,\n",
              " 0.19387755102040816,\n",
              " 0.44031528592635544,\n",
              " 0.5081018518518517)"
            ]
          },
          "metadata": {},
          "execution_count": 14
        }
      ]
    },
    {
      "cell_type": "code",
      "source": [
        "# Model Evaluation\n",
        "acc_ROC_AUC_train= metrics.roc_auc_score(y_train, y_pred)\n",
        "acc_R2_train= metrics.r2_score(y_train, y_pred)\n",
        "acc_AR2_train= 1 - (1-metrics.r2_score(y_train, y_pred))*(len(y_train)-1)/(len(y_train)-X_train.shape[1]-1)\n",
        "acc_MAE_train= metrics.mean_absolute_error(y_train, y_pred)\n",
        "acc_MSE_train= metrics.mean_squared_error(y_train, y_pred)\n",
        "acc_RMSE_train= np.sqrt(metrics.mean_squared_error(y_train, y_pred))\n",
        "\n",
        "print('R^2:',acc_R2_train)\n",
        "print('Adjusted R^2:', acc_AR2_train)\n",
        "print('MAE:', acc_MAE_train)\n",
        "print('MSE:', acc_MSE_train)\n",
        "print('RMSE:', acc_RMSE_train)\n",
        "print(\"ROC-AUC:\", acc_ROC_AUC_train)"
      ],
      "metadata": {
        "colab": {
          "base_uri": "https://localhost:8080/"
        },
        "id": "Bh6SzcTdlLt0",
        "outputId": "b6df7903-cc5a-4b56-90bd-81a304489136"
      },
      "execution_count": 40,
      "outputs": [
        {
          "output_type": "stream",
          "name": "stdout",
          "text": [
            "R^2: 0.9999999956684433\n",
            "Adjusted R^2: 0.9999999951573938\n",
            "MAE: 2.6306124771533368e-05\n",
            "MSE: 7.621667469484052e-10\n",
            "RMSE: 2.7607367620771185e-05\n",
            "ROC-AUC: 1.0\n"
          ]
        }
      ]
    },
    {
      "cell_type": "code",
      "source": [
        "test = pd.read_csv('/content/test.csv')\n",
        "y_test_pred = reg.predict(test)\n",
        "\n",
        "print(X_test)\n",
        "\n",
        "X_test['aaa'] = y_test_pred\n",
        "\n",
        "# X_test.to_excel('aaaTest.xlsx')"
      ],
      "metadata": {
        "id": "lA9Pzd1ilMk1"
      },
      "execution_count": null,
      "outputs": []
    },
    {
      "cell_type": "code",
      "source": [
        "# Model Evaluation\n",
        "acc_ROC_AUC_train= metrics.roc_auc_score(y_test, y_test_pred)\n",
        "acc_R2_train= metrics.r2_score(y_test, y_test_pred)\n",
        "acc_AR2_train= 1 - (1-metrics.r2_score(y_test, y_test_pred))*(len(y_test)-1)/(len(y_test)-X_train.shape[1]-1)\n",
        "acc_MAE_train= metrics.mean_absolute_error(y_test, y_test_pred)\n",
        "acc_MSE_train= metrics.mean_squared_error(y_test, y_test_pred)\n",
        "acc_RMSE_train= np.sqrt(metrics.mean_squared_error(y_test, y_test_pred))\n",
        "\n",
        "print('R^2:',acc_R2_train)\n",
        "print('Adjusted R^2:', acc_AR2_train)\n",
        "print('MAE:', acc_MAE_train)\n",
        "print('MSE:', acc_MSE_train)\n",
        "print('RMSE:', acc_RMSE_train)\n",
        "print(\"ROC-AUC:\", acc_ROC_AUC_train)"
      ],
      "metadata": {
        "colab": {
          "base_uri": "https://localhost:8080/"
        },
        "id": "IF3nDTNpwfqd",
        "outputId": "19f8c4f3-8299-4ddd-c149-5ba3b69c6246"
      },
      "execution_count": 9,
      "outputs": [
        {
          "output_type": "stream",
          "name": "stdout",
          "text": [
            "R^2: -0.10516416367574166\n",
            "Adjusted R^2: -0.904782940923484\n",
            "MAE: 0.3326640230457799\n",
            "MSE: 0.16570558055946144\n",
            "RMSE: 0.40706950335226716\n",
            "ROC-AUC: 0.5722993827160494\n"
          ]
        }
      ]
    },
    {
      "cell_type": "markdown",
      "source": [
        "# Результат получен здесь"
      ],
      "metadata": {
        "id": "p6d7KfQrfnML"
      }
    },
    {
      "cell_type": "code",
      "source": [
        "# Подгружаем данные\n",
        "feats = pd.read_csv('/content/players_feats.csv') \n",
        "train = pd.read_csv('/content/train.csv')\n",
        "\n",
        "# Приводим к цифрому виду названия карт\n",
        "map_dict = {\n",
        "    'Ancient': 0, \n",
        "    'Dust2': 1, \n",
        "    'Mirage': 2,\n",
        "    'Inferno': 3,\n",
        "    'Nuke': 4,\n",
        "    'Overpass':5,\n",
        "    'Vertigo': 6\n",
        "}\n",
        "feats['map_name'] = feats['map_name'].map(map_dict).fillna(7)\n",
        "\n",
        "# Пропущенные значения, заменяем на 0, возможно, имеет смысл вообще удалить строки с нулевыми значениями или зменить например на среднее \n",
        "feats.fillna(0, inplace = True)\n",
        "\n",
        "# Здесь будем хранить значения вида Комнда/карта: уровнь скилла на этой карте\n",
        "grp = {}\n",
        "\n",
        "# Добавляем столбец с меткой результата матча \n",
        "feats['who_win'] = 0\n",
        "\n",
        "# Заполняем стоблец с результатами матча, согласно данным из train.csv\n",
        "for match in train.iterrows():\n",
        "  match_info = list(match[1])\n",
        "  team2_id = int(match_info[2])\n",
        "  map_id = int(match_info[0])\n",
        "  who_win = int(train[train['map_id'] == map_id]['who_win'])\n",
        "  if who_win == 1:\n",
        "    feats.loc[(feats['map_id'] == map_id) & (feats['team_id'] == team2_id), 'who_win'] = 1\n",
        "\n",
        "# Сохраняем значения столбцов, которые мы не хотим нормировать\n",
        "team_id = feats['team_id']\n",
        "map_name = feats['map_name']\n",
        "\n",
        "# Нормируем значения (значения варьируются от 0 до 1)\n",
        "X = feats.values \n",
        "min_max_scaler = preprocessing.MinMaxScaler()\n",
        "x_scaled = min_max_scaler.fit_transform(X)\n",
        "df = pd.DataFrame(x_scaled)\n",
        "\n",
        "df.columns = feats.columns\n",
        "df['team_id'] = team_id\n",
        "df['map_name'] = map_name\n",
        "\n",
        "# Функция на вход получает алгоритм Регресси и данные, на которых обучается и делает предсказания \n",
        "# Предсказания округляем\n",
        "def boost_models(x,tmp_X, tmp_y,X_test):\n",
        "    regr_trans = TransformedTargetRegressor(regressor=x, transformer=QuantileTransformer(output_distribution='normal'))\n",
        "    regr_trans.fit(tmp_X, tmp_y)\n",
        "    yhat = regr_trans.predict(X_test)\n",
        "    return yhat.mean()\n",
        "\n",
        "# Усредняем все значения, тем самым получаем средний показатель скилла конкретной команды, на конкретной карте \n",
        "def get_score(tmp_X, tmp_y,X_test):\n",
        "  algo=[GradientBoostingRegressor(), lgbm.LGBMRegressor(), xgb.XGBRFRegressor()]\n",
        "  score = []\n",
        "  for a in algo:\n",
        "    score.append(boost_models(a,tmp_X, tmp_y,X_test))\n",
        "  return np.mean(score)\n",
        "\n",
        "# Получаем значения конкретной команды на определенной карте \n",
        "for feat in df.iterrows():\n",
        "  feat = list(feat[1])\n",
        "  team_id = int(feat[-4])\n",
        "  map_name = int(feat[-3])\n",
        "\n",
        "  comb_id = str(team_id) + \"/\" + str(map_name)\n",
        "  tmp_X = feats[(feats['team_id'] == team_id) & (feats['map_name'] == map_name)]\n",
        "  tmp_y = tmp_X[\"who_win\"]\n",
        "  print(tmp_X.shape)\n",
        "  # Здесь я использовал два варианта: \n",
        "  # 1) с разбиением на тренировачный и тестовый (тогда приходится отбрасывать те значения, где команда сыграла 1 или 2 игры на определенной карте)\n",
        "  # 2) Использование всех данных в качестве определения скила (есть риск переобучиться)\n",
        "  if tmp_X.shape[0] < 2:\n",
        "    # X_train, X_test, y_train, y_test = train_test_split(tmp_X, tmp_y, random_state = 42)\n",
        "    # grp[comb_id] = get_score(X_train, y_train, X_test)\n",
        "    continue\n",
        "  else:\n",
        "    X_train, X_test, y_train, y_test = train_test_split(tmp_X, tmp_y, test_size = 0.2, random_state = 42)\n",
        "    grp[comb_id] = get_score(X_train, y_train, X_test)\n",
        "  \n",
        "print(grp)\n",
        "\n",
        "\n",
        "\n"
      ],
      "metadata": {
        "colab": {
          "base_uri": "https://localhost:8080/",
          "height": 1000
        },
        "id": "b5Bo9x_3fpxo",
        "outputId": "33854eca-0565-456b-9461-c228b6e6b223"
      },
      "execution_count": 21,
      "outputs": [
        {
          "output_type": "stream",
          "name": "stdout",
          "text": [
            "(15, 129)\n",
            "[11:52:00] WARNING: /workspace/src/objective/regression_obj.cu:152: reg:linear is now deprecated in favor of reg:squarederror.\n",
            "(7, 129)\n",
            "[11:52:00] WARNING: /workspace/src/objective/regression_obj.cu:152: reg:linear is now deprecated in favor of reg:squarederror.\n",
            "(10, 129)\n",
            "[11:52:00] WARNING: /workspace/src/objective/regression_obj.cu:152: reg:linear is now deprecated in favor of reg:squarederror.\n",
            "(16, 129)\n"
          ]
        },
        {
          "output_type": "stream",
          "name": "stderr",
          "text": [
            "/usr/local/lib/python3.8/dist-packages/sklearn/preprocessing/_data.py:2590: UserWarning: n_quantiles (1000) is greater than the total number of samples (12). n_quantiles is set to n_samples.\n",
            "  warnings.warn(\n",
            "/usr/local/lib/python3.8/dist-packages/sklearn/preprocessing/_data.py:2590: UserWarning: n_quantiles (1000) is greater than the total number of samples (12). n_quantiles is set to n_samples.\n",
            "  warnings.warn(\n",
            "/usr/local/lib/python3.8/dist-packages/sklearn/preprocessing/_data.py:2590: UserWarning: n_quantiles (1000) is greater than the total number of samples (12). n_quantiles is set to n_samples.\n",
            "  warnings.warn(\n",
            "/usr/local/lib/python3.8/dist-packages/sklearn/preprocessing/_data.py:2590: UserWarning: n_quantiles (1000) is greater than the total number of samples (5). n_quantiles is set to n_samples.\n",
            "  warnings.warn(\n",
            "/usr/local/lib/python3.8/dist-packages/sklearn/preprocessing/_data.py:2590: UserWarning: n_quantiles (1000) is greater than the total number of samples (5). n_quantiles is set to n_samples.\n",
            "  warnings.warn(\n",
            "/usr/local/lib/python3.8/dist-packages/sklearn/preprocessing/_data.py:2590: UserWarning: n_quantiles (1000) is greater than the total number of samples (5). n_quantiles is set to n_samples.\n",
            "  warnings.warn(\n",
            "/usr/local/lib/python3.8/dist-packages/sklearn/preprocessing/_data.py:2590: UserWarning: n_quantiles (1000) is greater than the total number of samples (8). n_quantiles is set to n_samples.\n",
            "  warnings.warn(\n",
            "/usr/local/lib/python3.8/dist-packages/sklearn/preprocessing/_data.py:2590: UserWarning: n_quantiles (1000) is greater than the total number of samples (8). n_quantiles is set to n_samples.\n",
            "  warnings.warn(\n",
            "/usr/local/lib/python3.8/dist-packages/sklearn/preprocessing/_data.py:2590: UserWarning: n_quantiles (1000) is greater than the total number of samples (8). n_quantiles is set to n_samples.\n",
            "  warnings.warn(\n",
            "/usr/local/lib/python3.8/dist-packages/sklearn/preprocessing/_data.py:2590: UserWarning: n_quantiles (1000) is greater than the total number of samples (12). n_quantiles is set to n_samples.\n",
            "  warnings.warn(\n",
            "/usr/local/lib/python3.8/dist-packages/sklearn/preprocessing/_data.py:2590: UserWarning: n_quantiles (1000) is greater than the total number of samples (12). n_quantiles is set to n_samples.\n",
            "  warnings.warn(\n",
            "/usr/local/lib/python3.8/dist-packages/sklearn/preprocessing/_data.py:2590: UserWarning: n_quantiles (1000) is greater than the total number of samples (12). n_quantiles is set to n_samples.\n",
            "  warnings.warn(\n",
            "/usr/local/lib/python3.8/dist-packages/sklearn/preprocessing/_data.py:2590: UserWarning: n_quantiles (1000) is greater than the total number of samples (4). n_quantiles is set to n_samples.\n",
            "  warnings.warn(\n",
            "/usr/local/lib/python3.8/dist-packages/sklearn/preprocessing/_data.py:2590: UserWarning: n_quantiles (1000) is greater than the total number of samples (4). n_quantiles is set to n_samples.\n",
            "  warnings.warn(\n",
            "/usr/local/lib/python3.8/dist-packages/sklearn/preprocessing/_data.py:2590: UserWarning: n_quantiles (1000) is greater than the total number of samples (4). n_quantiles is set to n_samples.\n",
            "  warnings.warn(\n",
            "/usr/local/lib/python3.8/dist-packages/sklearn/preprocessing/_data.py:2590: UserWarning: n_quantiles (1000) is greater than the total number of samples (5). n_quantiles is set to n_samples.\n",
            "  warnings.warn(\n",
            "/usr/local/lib/python3.8/dist-packages/sklearn/preprocessing/_data.py:2590: UserWarning: n_quantiles (1000) is greater than the total number of samples (5). n_quantiles is set to n_samples.\n",
            "  warnings.warn(\n",
            "/usr/local/lib/python3.8/dist-packages/sklearn/preprocessing/_data.py:2590: UserWarning: n_quantiles (1000) is greater than the total number of samples (5). n_quantiles is set to n_samples.\n",
            "  warnings.warn(\n",
            "/usr/local/lib/python3.8/dist-packages/sklearn/preprocessing/_data.py:2590: UserWarning: n_quantiles (1000) is greater than the total number of samples (11). n_quantiles is set to n_samples.\n",
            "  warnings.warn(\n"
          ]
        },
        {
          "output_type": "stream",
          "name": "stdout",
          "text": [
            "[11:52:01] WARNING: /workspace/src/objective/regression_obj.cu:152: reg:linear is now deprecated in favor of reg:squarederror.\n",
            "(6, 129)\n",
            "[11:52:01] WARNING: /workspace/src/objective/regression_obj.cu:152: reg:linear is now deprecated in favor of reg:squarederror.\n",
            "(7, 129)\n",
            "[11:52:01] WARNING: /workspace/src/objective/regression_obj.cu:152: reg:linear is now deprecated in favor of reg:squarederror.\n",
            "(14, 129)\n"
          ]
        },
        {
          "output_type": "stream",
          "name": "stderr",
          "text": [
            "/usr/local/lib/python3.8/dist-packages/sklearn/preprocessing/_data.py:2590: UserWarning: n_quantiles (1000) is greater than the total number of samples (11). n_quantiles is set to n_samples.\n",
            "  warnings.warn(\n",
            "/usr/local/lib/python3.8/dist-packages/sklearn/preprocessing/_data.py:2590: UserWarning: n_quantiles (1000) is greater than the total number of samples (11). n_quantiles is set to n_samples.\n",
            "  warnings.warn(\n",
            "/usr/local/lib/python3.8/dist-packages/sklearn/preprocessing/_data.py:2590: UserWarning: n_quantiles (1000) is greater than the total number of samples (6). n_quantiles is set to n_samples.\n",
            "  warnings.warn(\n",
            "/usr/local/lib/python3.8/dist-packages/sklearn/preprocessing/_data.py:2590: UserWarning: n_quantiles (1000) is greater than the total number of samples (6). n_quantiles is set to n_samples.\n",
            "  warnings.warn(\n",
            "/usr/local/lib/python3.8/dist-packages/sklearn/preprocessing/_data.py:2590: UserWarning: n_quantiles (1000) is greater than the total number of samples (6). n_quantiles is set to n_samples.\n",
            "  warnings.warn(\n",
            "/usr/local/lib/python3.8/dist-packages/sklearn/preprocessing/_data.py:2590: UserWarning: n_quantiles (1000) is greater than the total number of samples (16). n_quantiles is set to n_samples.\n",
            "  warnings.warn(\n",
            "/usr/local/lib/python3.8/dist-packages/sklearn/preprocessing/_data.py:2590: UserWarning: n_quantiles (1000) is greater than the total number of samples (16). n_quantiles is set to n_samples.\n",
            "  warnings.warn(\n",
            "/usr/local/lib/python3.8/dist-packages/sklearn/preprocessing/_data.py:2590: UserWarning: n_quantiles (1000) is greater than the total number of samples (16). n_quantiles is set to n_samples.\n",
            "  warnings.warn(\n"
          ]
        },
        {
          "output_type": "stream",
          "name": "stdout",
          "text": [
            "[11:52:01] WARNING: /workspace/src/objective/regression_obj.cu:152: reg:linear is now deprecated in favor of reg:squarederror.\n",
            "(8, 129)\n",
            "[11:52:01] WARNING: /workspace/src/objective/regression_obj.cu:152: reg:linear is now deprecated in favor of reg:squarederror.\n",
            "(21, 129)\n",
            "[11:52:01] WARNING: /workspace/src/objective/regression_obj.cu:152: reg:linear is now deprecated in favor of reg:squarederror.\n",
            "(16, 129)\n"
          ]
        },
        {
          "output_type": "stream",
          "name": "stderr",
          "text": [
            "/usr/local/lib/python3.8/dist-packages/sklearn/preprocessing/_data.py:2590: UserWarning: n_quantiles (1000) is greater than the total number of samples (12). n_quantiles is set to n_samples.\n",
            "  warnings.warn(\n",
            "/usr/local/lib/python3.8/dist-packages/sklearn/preprocessing/_data.py:2590: UserWarning: n_quantiles (1000) is greater than the total number of samples (12). n_quantiles is set to n_samples.\n",
            "  warnings.warn(\n",
            "/usr/local/lib/python3.8/dist-packages/sklearn/preprocessing/_data.py:2590: UserWarning: n_quantiles (1000) is greater than the total number of samples (12). n_quantiles is set to n_samples.\n",
            "  warnings.warn(\n",
            "/usr/local/lib/python3.8/dist-packages/sklearn/preprocessing/_data.py:2590: UserWarning: n_quantiles (1000) is greater than the total number of samples (16). n_quantiles is set to n_samples.\n",
            "  warnings.warn(\n",
            "/usr/local/lib/python3.8/dist-packages/sklearn/preprocessing/_data.py:2590: UserWarning: n_quantiles (1000) is greater than the total number of samples (16). n_quantiles is set to n_samples.\n",
            "  warnings.warn(\n",
            "/usr/local/lib/python3.8/dist-packages/sklearn/preprocessing/_data.py:2590: UserWarning: n_quantiles (1000) is greater than the total number of samples (16). n_quantiles is set to n_samples.\n",
            "  warnings.warn(\n",
            "/usr/local/lib/python3.8/dist-packages/sklearn/preprocessing/_data.py:2590: UserWarning: n_quantiles (1000) is greater than the total number of samples (7). n_quantiles is set to n_samples.\n",
            "  warnings.warn(\n",
            "/usr/local/lib/python3.8/dist-packages/sklearn/preprocessing/_data.py:2590: UserWarning: n_quantiles (1000) is greater than the total number of samples (7). n_quantiles is set to n_samples.\n",
            "  warnings.warn(\n"
          ]
        },
        {
          "output_type": "stream",
          "name": "stdout",
          "text": [
            "[11:52:01] WARNING: /workspace/src/objective/regression_obj.cu:152: reg:linear is now deprecated in favor of reg:squarederror.\n",
            "(20, 129)\n",
            "[11:52:01] WARNING: /workspace/src/objective/regression_obj.cu:152: reg:linear is now deprecated in favor of reg:squarederror.\n",
            "(9, 129)\n",
            "[11:52:01] WARNING: /workspace/src/objective/regression_obj.cu:152: reg:linear is now deprecated in favor of reg:squarederror.\n",
            "(9, 129)\n"
          ]
        },
        {
          "output_type": "stream",
          "name": "stderr",
          "text": [
            "/usr/local/lib/python3.8/dist-packages/sklearn/preprocessing/_data.py:2590: UserWarning: n_quantiles (1000) is greater than the total number of samples (7). n_quantiles is set to n_samples.\n",
            "  warnings.warn(\n",
            "/usr/local/lib/python3.8/dist-packages/sklearn/preprocessing/_data.py:2590: UserWarning: n_quantiles (1000) is greater than the total number of samples (7). n_quantiles is set to n_samples.\n",
            "  warnings.warn(\n",
            "/usr/local/lib/python3.8/dist-packages/sklearn/preprocessing/_data.py:2590: UserWarning: n_quantiles (1000) is greater than the total number of samples (7). n_quantiles is set to n_samples.\n",
            "  warnings.warn(\n",
            "/usr/local/lib/python3.8/dist-packages/sklearn/preprocessing/_data.py:2590: UserWarning: n_quantiles (1000) is greater than the total number of samples (7). n_quantiles is set to n_samples.\n",
            "  warnings.warn(\n",
            "/usr/local/lib/python3.8/dist-packages/sklearn/preprocessing/_data.py:2590: UserWarning: n_quantiles (1000) is greater than the total number of samples (6). n_quantiles is set to n_samples.\n",
            "  warnings.warn(\n",
            "/usr/local/lib/python3.8/dist-packages/sklearn/preprocessing/_data.py:2590: UserWarning: n_quantiles (1000) is greater than the total number of samples (6). n_quantiles is set to n_samples.\n",
            "  warnings.warn(\n",
            "/usr/local/lib/python3.8/dist-packages/sklearn/preprocessing/_data.py:2590: UserWarning: n_quantiles (1000) is greater than the total number of samples (6). n_quantiles is set to n_samples.\n",
            "  warnings.warn(\n",
            "/usr/local/lib/python3.8/dist-packages/sklearn/preprocessing/_data.py:2590: UserWarning: n_quantiles (1000) is greater than the total number of samples (3). n_quantiles is set to n_samples.\n",
            "  warnings.warn(\n",
            "/usr/local/lib/python3.8/dist-packages/sklearn/preprocessing/_data.py:2590: UserWarning: n_quantiles (1000) is greater than the total number of samples (3). n_quantiles is set to n_samples.\n",
            "  warnings.warn(\n",
            "/usr/local/lib/python3.8/dist-packages/sklearn/preprocessing/_data.py:2590: UserWarning: n_quantiles (1000) is greater than the total number of samples (3). n_quantiles is set to n_samples.\n",
            "  warnings.warn(\n"
          ]
        },
        {
          "output_type": "stream",
          "name": "stdout",
          "text": [
            "[11:52:01] WARNING: /workspace/src/objective/regression_obj.cu:152: reg:linear is now deprecated in favor of reg:squarederror.\n",
            "(8, 129)\n",
            "[11:52:01] WARNING: /workspace/src/objective/regression_obj.cu:152: reg:linear is now deprecated in favor of reg:squarederror.\n",
            "(4, 129)\n",
            "[11:52:01] WARNING: /workspace/src/objective/regression_obj.cu:152: reg:linear is now deprecated in favor of reg:squarederror.\n",
            "(7, 129)\n",
            "[11:52:01] WARNING: /workspace/src/objective/regression_obj.cu:152: reg:linear is now deprecated in favor of reg:squarederror.\n"
          ]
        },
        {
          "output_type": "stream",
          "name": "stderr",
          "text": [
            "/usr/local/lib/python3.8/dist-packages/sklearn/preprocessing/_data.py:2590: UserWarning: n_quantiles (1000) is greater than the total number of samples (5). n_quantiles is set to n_samples.\n",
            "  warnings.warn(\n",
            "/usr/local/lib/python3.8/dist-packages/sklearn/preprocessing/_data.py:2590: UserWarning: n_quantiles (1000) is greater than the total number of samples (5). n_quantiles is set to n_samples.\n",
            "  warnings.warn(\n",
            "/usr/local/lib/python3.8/dist-packages/sklearn/preprocessing/_data.py:2590: UserWarning: n_quantiles (1000) is greater than the total number of samples (5). n_quantiles is set to n_samples.\n",
            "  warnings.warn(\n",
            "/usr/local/lib/python3.8/dist-packages/sklearn/preprocessing/_data.py:2590: UserWarning: n_quantiles (1000) is greater than the total number of samples (3). n_quantiles is set to n_samples.\n",
            "  warnings.warn(\n",
            "/usr/local/lib/python3.8/dist-packages/sklearn/preprocessing/_data.py:2590: UserWarning: n_quantiles (1000) is greater than the total number of samples (3). n_quantiles is set to n_samples.\n",
            "  warnings.warn(\n",
            "/usr/local/lib/python3.8/dist-packages/sklearn/preprocessing/_data.py:2590: UserWarning: n_quantiles (1000) is greater than the total number of samples (3). n_quantiles is set to n_samples.\n",
            "  warnings.warn(\n",
            "/usr/local/lib/python3.8/dist-packages/sklearn/preprocessing/_data.py:2590: UserWarning: n_quantiles (1000) is greater than the total number of samples (6). n_quantiles is set to n_samples.\n",
            "  warnings.warn(\n",
            "/usr/local/lib/python3.8/dist-packages/sklearn/preprocessing/_data.py:2590: UserWarning: n_quantiles (1000) is greater than the total number of samples (6). n_quantiles is set to n_samples.\n",
            "  warnings.warn(\n",
            "/usr/local/lib/python3.8/dist-packages/sklearn/preprocessing/_data.py:2590: UserWarning: n_quantiles (1000) is greater than the total number of samples (6). n_quantiles is set to n_samples.\n",
            "  warnings.warn(\n",
            "/usr/local/lib/python3.8/dist-packages/sklearn/preprocessing/_data.py:2590: UserWarning: n_quantiles (1000) is greater than the total number of samples (7). n_quantiles is set to n_samples.\n",
            "  warnings.warn(\n"
          ]
        },
        {
          "output_type": "stream",
          "name": "stdout",
          "text": [
            "(4, 129)\n",
            "[11:52:01] WARNING: /workspace/src/objective/regression_obj.cu:152: reg:linear is now deprecated in favor of reg:squarederror.\n",
            "(8, 129)\n",
            "[11:52:02] WARNING: /workspace/src/objective/regression_obj.cu:152: reg:linear is now deprecated in favor of reg:squarederror.\n",
            "(9, 129)\n",
            "[11:52:02] WARNING: /workspace/src/objective/regression_obj.cu:152: reg:linear is now deprecated in favor of reg:squarederror.\n"
          ]
        },
        {
          "output_type": "stream",
          "name": "stderr",
          "text": [
            "/usr/local/lib/python3.8/dist-packages/sklearn/preprocessing/_data.py:2590: UserWarning: n_quantiles (1000) is greater than the total number of samples (7). n_quantiles is set to n_samples.\n",
            "  warnings.warn(\n",
            "/usr/local/lib/python3.8/dist-packages/sklearn/preprocessing/_data.py:2590: UserWarning: n_quantiles (1000) is greater than the total number of samples (7). n_quantiles is set to n_samples.\n",
            "  warnings.warn(\n",
            "/usr/local/lib/python3.8/dist-packages/sklearn/preprocessing/_data.py:2590: UserWarning: n_quantiles (1000) is greater than the total number of samples (11). n_quantiles is set to n_samples.\n",
            "  warnings.warn(\n",
            "/usr/local/lib/python3.8/dist-packages/sklearn/preprocessing/_data.py:2590: UserWarning: n_quantiles (1000) is greater than the total number of samples (11). n_quantiles is set to n_samples.\n",
            "  warnings.warn(\n",
            "/usr/local/lib/python3.8/dist-packages/sklearn/preprocessing/_data.py:2590: UserWarning: n_quantiles (1000) is greater than the total number of samples (11). n_quantiles is set to n_samples.\n",
            "  warnings.warn(\n",
            "/usr/local/lib/python3.8/dist-packages/sklearn/preprocessing/_data.py:2590: UserWarning: n_quantiles (1000) is greater than the total number of samples (9). n_quantiles is set to n_samples.\n",
            "  warnings.warn(\n",
            "/usr/local/lib/python3.8/dist-packages/sklearn/preprocessing/_data.py:2590: UserWarning: n_quantiles (1000) is greater than the total number of samples (9). n_quantiles is set to n_samples.\n",
            "  warnings.warn(\n",
            "/usr/local/lib/python3.8/dist-packages/sklearn/preprocessing/_data.py:2590: UserWarning: n_quantiles (1000) is greater than the total number of samples (9). n_quantiles is set to n_samples.\n",
            "  warnings.warn(\n",
            "/usr/local/lib/python3.8/dist-packages/sklearn/preprocessing/_data.py:2590: UserWarning: n_quantiles (1000) is greater than the total number of samples (8). n_quantiles is set to n_samples.\n",
            "  warnings.warn(\n"
          ]
        },
        {
          "output_type": "stream",
          "name": "stdout",
          "text": [
            "(14, 129)\n",
            "[11:52:02] WARNING: /workspace/src/objective/regression_obj.cu:152: reg:linear is now deprecated in favor of reg:squarederror.\n",
            "(12, 129)\n",
            "[11:52:02] WARNING: /workspace/src/objective/regression_obj.cu:152: reg:linear is now deprecated in favor of reg:squarederror.\n",
            "(10, 129)\n",
            "[11:52:02] WARNING: /workspace/src/objective/regression_obj.cu:152: reg:linear is now deprecated in favor of reg:squarederror.\n"
          ]
        },
        {
          "output_type": "stream",
          "name": "stderr",
          "text": [
            "/usr/local/lib/python3.8/dist-packages/sklearn/preprocessing/_data.py:2590: UserWarning: n_quantiles (1000) is greater than the total number of samples (8). n_quantiles is set to n_samples.\n",
            "  warnings.warn(\n",
            "/usr/local/lib/python3.8/dist-packages/sklearn/preprocessing/_data.py:2590: UserWarning: n_quantiles (1000) is greater than the total number of samples (8). n_quantiles is set to n_samples.\n",
            "  warnings.warn(\n",
            "/usr/local/lib/python3.8/dist-packages/sklearn/preprocessing/_data.py:2590: UserWarning: n_quantiles (1000) is greater than the total number of samples (6). n_quantiles is set to n_samples.\n",
            "  warnings.warn(\n",
            "/usr/local/lib/python3.8/dist-packages/sklearn/preprocessing/_data.py:2590: UserWarning: n_quantiles (1000) is greater than the total number of samples (6). n_quantiles is set to n_samples.\n",
            "  warnings.warn(\n",
            "/usr/local/lib/python3.8/dist-packages/sklearn/preprocessing/_data.py:2590: UserWarning: n_quantiles (1000) is greater than the total number of samples (6). n_quantiles is set to n_samples.\n",
            "  warnings.warn(\n",
            "/usr/local/lib/python3.8/dist-packages/sklearn/preprocessing/_data.py:2590: UserWarning: n_quantiles (1000) is greater than the total number of samples (12). n_quantiles is set to n_samples.\n",
            "  warnings.warn(\n",
            "/usr/local/lib/python3.8/dist-packages/sklearn/preprocessing/_data.py:2590: UserWarning: n_quantiles (1000) is greater than the total number of samples (12). n_quantiles is set to n_samples.\n",
            "  warnings.warn(\n",
            "/usr/local/lib/python3.8/dist-packages/sklearn/preprocessing/_data.py:2590: UserWarning: n_quantiles (1000) is greater than the total number of samples (12). n_quantiles is set to n_samples.\n",
            "  warnings.warn(\n",
            "/usr/local/lib/python3.8/dist-packages/sklearn/preprocessing/_data.py:2590: UserWarning: n_quantiles (1000) is greater than the total number of samples (8). n_quantiles is set to n_samples.\n",
            "  warnings.warn(\n"
          ]
        },
        {
          "output_type": "stream",
          "name": "stdout",
          "text": [
            "(8, 129)\n",
            "[11:52:02] WARNING: /workspace/src/objective/regression_obj.cu:152: reg:linear is now deprecated in favor of reg:squarederror.\n",
            "(15, 129)\n",
            "[11:52:02] WARNING: /workspace/src/objective/regression_obj.cu:152: reg:linear is now deprecated in favor of reg:squarederror.\n",
            "(10, 129)\n",
            "[11:52:02] WARNING: /workspace/src/objective/regression_obj.cu:152: reg:linear is now deprecated in favor of reg:squarederror.\n"
          ]
        },
        {
          "output_type": "stream",
          "name": "stderr",
          "text": [
            "/usr/local/lib/python3.8/dist-packages/sklearn/preprocessing/_data.py:2590: UserWarning: n_quantiles (1000) is greater than the total number of samples (8). n_quantiles is set to n_samples.\n",
            "  warnings.warn(\n",
            "/usr/local/lib/python3.8/dist-packages/sklearn/preprocessing/_data.py:2590: UserWarning: n_quantiles (1000) is greater than the total number of samples (8). n_quantiles is set to n_samples.\n",
            "  warnings.warn(\n",
            "/usr/local/lib/python3.8/dist-packages/sklearn/preprocessing/_data.py:2590: UserWarning: n_quantiles (1000) is greater than the total number of samples (12). n_quantiles is set to n_samples.\n",
            "  warnings.warn(\n",
            "/usr/local/lib/python3.8/dist-packages/sklearn/preprocessing/_data.py:2590: UserWarning: n_quantiles (1000) is greater than the total number of samples (12). n_quantiles is set to n_samples.\n",
            "  warnings.warn(\n",
            "/usr/local/lib/python3.8/dist-packages/sklearn/preprocessing/_data.py:2590: UserWarning: n_quantiles (1000) is greater than the total number of samples (12). n_quantiles is set to n_samples.\n",
            "  warnings.warn(\n",
            "/usr/local/lib/python3.8/dist-packages/sklearn/preprocessing/_data.py:2590: UserWarning: n_quantiles (1000) is greater than the total number of samples (12). n_quantiles is set to n_samples.\n",
            "  warnings.warn(\n",
            "/usr/local/lib/python3.8/dist-packages/sklearn/preprocessing/_data.py:2590: UserWarning: n_quantiles (1000) is greater than the total number of samples (12). n_quantiles is set to n_samples.\n",
            "  warnings.warn(\n",
            "/usr/local/lib/python3.8/dist-packages/sklearn/preprocessing/_data.py:2590: UserWarning: n_quantiles (1000) is greater than the total number of samples (12). n_quantiles is set to n_samples.\n",
            "  warnings.warn(\n"
          ]
        },
        {
          "output_type": "stream",
          "name": "stdout",
          "text": [
            "(16, 129)\n",
            "[11:52:02] WARNING: /workspace/src/objective/regression_obj.cu:152: reg:linear is now deprecated in favor of reg:squarederror.\n",
            "(16, 129)\n"
          ]
        },
        {
          "output_type": "error",
          "ename": "KeyboardInterrupt",
          "evalue": "ignored",
          "traceback": [
            "\u001b[0;31m---------------------------------------------------------------------------\u001b[0m",
            "\u001b[0;31mKeyboardInterrupt\u001b[0m                         Traceback (most recent call last)",
            "\u001b[0;32m<ipython-input-21-ff2dfcecaec5>\u001b[0m in \u001b[0;36m<module>\u001b[0;34m\u001b[0m\n\u001b[1;32m     80\u001b[0m   \u001b[0;32melse\u001b[0m\u001b[0;34m:\u001b[0m\u001b[0;34m\u001b[0m\u001b[0;34m\u001b[0m\u001b[0m\n\u001b[1;32m     81\u001b[0m     \u001b[0mX_train\u001b[0m\u001b[0;34m,\u001b[0m \u001b[0mX_test\u001b[0m\u001b[0;34m,\u001b[0m \u001b[0my_train\u001b[0m\u001b[0;34m,\u001b[0m \u001b[0my_test\u001b[0m \u001b[0;34m=\u001b[0m \u001b[0mtrain_test_split\u001b[0m\u001b[0;34m(\u001b[0m\u001b[0mtmp_X\u001b[0m\u001b[0;34m,\u001b[0m \u001b[0mtmp_y\u001b[0m\u001b[0;34m,\u001b[0m \u001b[0mtest_size\u001b[0m \u001b[0;34m=\u001b[0m \u001b[0;36m0.2\u001b[0m\u001b[0;34m,\u001b[0m \u001b[0mrandom_state\u001b[0m \u001b[0;34m=\u001b[0m \u001b[0;36m42\u001b[0m\u001b[0;34m)\u001b[0m\u001b[0;34m\u001b[0m\u001b[0;34m\u001b[0m\u001b[0m\n\u001b[0;32m---> 82\u001b[0;31m     \u001b[0mgrp\u001b[0m\u001b[0;34m[\u001b[0m\u001b[0mcomb_id\u001b[0m\u001b[0;34m]\u001b[0m \u001b[0;34m=\u001b[0m \u001b[0mget_score\u001b[0m\u001b[0;34m(\u001b[0m\u001b[0mX_train\u001b[0m\u001b[0;34m,\u001b[0m \u001b[0my_train\u001b[0m\u001b[0;34m,\u001b[0m \u001b[0mX_test\u001b[0m\u001b[0;34m)\u001b[0m\u001b[0;34m\u001b[0m\u001b[0;34m\u001b[0m\u001b[0m\n\u001b[0m\u001b[1;32m     83\u001b[0m \u001b[0;34m\u001b[0m\u001b[0m\n\u001b[1;32m     84\u001b[0m \u001b[0mprint\u001b[0m\u001b[0;34m(\u001b[0m\u001b[0mgrp\u001b[0m\u001b[0;34m)\u001b[0m\u001b[0;34m\u001b[0m\u001b[0;34m\u001b[0m\u001b[0m\n",
            "\u001b[0;32m<ipython-input-21-ff2dfcecaec5>\u001b[0m in \u001b[0;36mget_score\u001b[0;34m(tmp_X, tmp_y, X_test)\u001b[0m\n\u001b[1;32m     60\u001b[0m   \u001b[0mscore\u001b[0m \u001b[0;34m=\u001b[0m \u001b[0;34m[\u001b[0m\u001b[0;34m]\u001b[0m\u001b[0;34m\u001b[0m\u001b[0;34m\u001b[0m\u001b[0m\n\u001b[1;32m     61\u001b[0m   \u001b[0;32mfor\u001b[0m \u001b[0ma\u001b[0m \u001b[0;32min\u001b[0m \u001b[0malgo\u001b[0m\u001b[0;34m:\u001b[0m\u001b[0;34m\u001b[0m\u001b[0;34m\u001b[0m\u001b[0m\n\u001b[0;32m---> 62\u001b[0;31m     \u001b[0mscore\u001b[0m\u001b[0;34m.\u001b[0m\u001b[0mappend\u001b[0m\u001b[0;34m(\u001b[0m\u001b[0mboost_models\u001b[0m\u001b[0;34m(\u001b[0m\u001b[0ma\u001b[0m\u001b[0;34m,\u001b[0m\u001b[0mtmp_X\u001b[0m\u001b[0;34m,\u001b[0m \u001b[0mtmp_y\u001b[0m\u001b[0;34m,\u001b[0m\u001b[0mX_test\u001b[0m\u001b[0;34m)\u001b[0m\u001b[0;34m)\u001b[0m\u001b[0;34m\u001b[0m\u001b[0;34m\u001b[0m\u001b[0m\n\u001b[0m\u001b[1;32m     63\u001b[0m   \u001b[0;32mreturn\u001b[0m \u001b[0mnp\u001b[0m\u001b[0;34m.\u001b[0m\u001b[0mmean\u001b[0m\u001b[0;34m(\u001b[0m\u001b[0mscore\u001b[0m\u001b[0;34m)\u001b[0m\u001b[0;34m\u001b[0m\u001b[0;34m\u001b[0m\u001b[0m\n\u001b[1;32m     64\u001b[0m \u001b[0;34m\u001b[0m\u001b[0m\n",
            "\u001b[0;32m<ipython-input-21-ff2dfcecaec5>\u001b[0m in \u001b[0;36mboost_models\u001b[0;34m(x, tmp_X, tmp_y, X_test)\u001b[0m\n\u001b[1;32m     51\u001b[0m \u001b[0;32mdef\u001b[0m \u001b[0mboost_models\u001b[0m\u001b[0;34m(\u001b[0m\u001b[0mx\u001b[0m\u001b[0;34m,\u001b[0m\u001b[0mtmp_X\u001b[0m\u001b[0;34m,\u001b[0m \u001b[0mtmp_y\u001b[0m\u001b[0;34m,\u001b[0m\u001b[0mX_test\u001b[0m\u001b[0;34m)\u001b[0m\u001b[0;34m:\u001b[0m\u001b[0;34m\u001b[0m\u001b[0;34m\u001b[0m\u001b[0m\n\u001b[1;32m     52\u001b[0m     \u001b[0mregr_trans\u001b[0m \u001b[0;34m=\u001b[0m \u001b[0mTransformedTargetRegressor\u001b[0m\u001b[0;34m(\u001b[0m\u001b[0mregressor\u001b[0m\u001b[0;34m=\u001b[0m\u001b[0mx\u001b[0m\u001b[0;34m,\u001b[0m \u001b[0mtransformer\u001b[0m\u001b[0;34m=\u001b[0m\u001b[0mQuantileTransformer\u001b[0m\u001b[0;34m(\u001b[0m\u001b[0moutput_distribution\u001b[0m\u001b[0;34m=\u001b[0m\u001b[0;34m'normal'\u001b[0m\u001b[0;34m)\u001b[0m\u001b[0;34m)\u001b[0m\u001b[0;34m\u001b[0m\u001b[0;34m\u001b[0m\u001b[0m\n\u001b[0;32m---> 53\u001b[0;31m     \u001b[0mregr_trans\u001b[0m\u001b[0;34m.\u001b[0m\u001b[0mfit\u001b[0m\u001b[0;34m(\u001b[0m\u001b[0mtmp_X\u001b[0m\u001b[0;34m,\u001b[0m \u001b[0mtmp_y\u001b[0m\u001b[0;34m)\u001b[0m\u001b[0;34m\u001b[0m\u001b[0;34m\u001b[0m\u001b[0m\n\u001b[0m\u001b[1;32m     54\u001b[0m     \u001b[0myhat\u001b[0m \u001b[0;34m=\u001b[0m \u001b[0mregr_trans\u001b[0m\u001b[0;34m.\u001b[0m\u001b[0mpredict\u001b[0m\u001b[0;34m(\u001b[0m\u001b[0mX_test\u001b[0m\u001b[0;34m)\u001b[0m\u001b[0;34m\u001b[0m\u001b[0;34m\u001b[0m\u001b[0m\n\u001b[1;32m     55\u001b[0m     \u001b[0;32mreturn\u001b[0m \u001b[0myhat\u001b[0m\u001b[0;34m.\u001b[0m\u001b[0mmean\u001b[0m\u001b[0;34m(\u001b[0m\u001b[0;34m)\u001b[0m\u001b[0;34m\u001b[0m\u001b[0;34m\u001b[0m\u001b[0m\n",
            "\u001b[0;32m/usr/local/lib/python3.8/dist-packages/sklearn/compose/_target.py\u001b[0m in \u001b[0;36mfit\u001b[0;34m(self, X, y, **fit_params)\u001b[0m\n\u001b[1;32m    227\u001b[0m         \u001b[0;32melse\u001b[0m\u001b[0;34m:\u001b[0m\u001b[0;34m\u001b[0m\u001b[0;34m\u001b[0m\u001b[0m\n\u001b[1;32m    228\u001b[0m             \u001b[0my_2d\u001b[0m \u001b[0;34m=\u001b[0m \u001b[0my\u001b[0m\u001b[0;34m\u001b[0m\u001b[0;34m\u001b[0m\u001b[0m\n\u001b[0;32m--> 229\u001b[0;31m         \u001b[0mself\u001b[0m\u001b[0;34m.\u001b[0m\u001b[0m_fit_transformer\u001b[0m\u001b[0;34m(\u001b[0m\u001b[0my_2d\u001b[0m\u001b[0;34m)\u001b[0m\u001b[0;34m\u001b[0m\u001b[0;34m\u001b[0m\u001b[0m\n\u001b[0m\u001b[1;32m    230\u001b[0m \u001b[0;34m\u001b[0m\u001b[0m\n\u001b[1;32m    231\u001b[0m         \u001b[0;31m# transform y and convert back to 1d array if needed\u001b[0m\u001b[0;34m\u001b[0m\u001b[0;34m\u001b[0m\u001b[0;34m\u001b[0m\u001b[0m\n",
            "\u001b[0;32m/usr/local/lib/python3.8/dist-packages/sklearn/compose/_target.py\u001b[0m in \u001b[0;36m_fit_transformer\u001b[0;34m(self, y)\u001b[0m\n\u001b[1;32m    177\u001b[0m             \u001b[0midx_selected\u001b[0m \u001b[0;34m=\u001b[0m \u001b[0mslice\u001b[0m\u001b[0;34m(\u001b[0m\u001b[0;32mNone\u001b[0m\u001b[0;34m,\u001b[0m \u001b[0;32mNone\u001b[0m\u001b[0;34m,\u001b[0m \u001b[0mmax\u001b[0m\u001b[0;34m(\u001b[0m\u001b[0;36m1\u001b[0m\u001b[0;34m,\u001b[0m \u001b[0my\u001b[0m\u001b[0;34m.\u001b[0m\u001b[0mshape\u001b[0m\u001b[0;34m[\u001b[0m\u001b[0;36m0\u001b[0m\u001b[0;34m]\u001b[0m \u001b[0;34m//\u001b[0m \u001b[0;36m10\u001b[0m\u001b[0;34m)\u001b[0m\u001b[0;34m)\u001b[0m\u001b[0;34m\u001b[0m\u001b[0;34m\u001b[0m\u001b[0m\n\u001b[1;32m    178\u001b[0m             \u001b[0my_sel\u001b[0m \u001b[0;34m=\u001b[0m \u001b[0m_safe_indexing\u001b[0m\u001b[0;34m(\u001b[0m\u001b[0my\u001b[0m\u001b[0;34m,\u001b[0m \u001b[0midx_selected\u001b[0m\u001b[0;34m)\u001b[0m\u001b[0;34m\u001b[0m\u001b[0;34m\u001b[0m\u001b[0m\n\u001b[0;32m--> 179\u001b[0;31m             \u001b[0my_sel_t\u001b[0m \u001b[0;34m=\u001b[0m \u001b[0mself\u001b[0m\u001b[0;34m.\u001b[0m\u001b[0mtransformer_\u001b[0m\u001b[0;34m.\u001b[0m\u001b[0mtransform\u001b[0m\u001b[0;34m(\u001b[0m\u001b[0my_sel\u001b[0m\u001b[0;34m)\u001b[0m\u001b[0;34m\u001b[0m\u001b[0;34m\u001b[0m\u001b[0m\n\u001b[0m\u001b[1;32m    180\u001b[0m             \u001b[0;32mif\u001b[0m \u001b[0;32mnot\u001b[0m \u001b[0mnp\u001b[0m\u001b[0;34m.\u001b[0m\u001b[0mallclose\u001b[0m\u001b[0;34m(\u001b[0m\u001b[0my_sel\u001b[0m\u001b[0;34m,\u001b[0m \u001b[0mself\u001b[0m\u001b[0;34m.\u001b[0m\u001b[0mtransformer_\u001b[0m\u001b[0;34m.\u001b[0m\u001b[0minverse_transform\u001b[0m\u001b[0;34m(\u001b[0m\u001b[0my_sel_t\u001b[0m\u001b[0;34m)\u001b[0m\u001b[0;34m)\u001b[0m\u001b[0;34m:\u001b[0m\u001b[0;34m\u001b[0m\u001b[0;34m\u001b[0m\u001b[0m\n\u001b[1;32m    181\u001b[0m                 warnings.warn(\n",
            "\u001b[0;32m/usr/local/lib/python3.8/dist-packages/sklearn/preprocessing/_data.py\u001b[0m in \u001b[0;36mtransform\u001b[0;34m(self, X)\u001b[0m\n\u001b[1;32m   2752\u001b[0m         \u001b[0mX\u001b[0m \u001b[0;34m=\u001b[0m \u001b[0mself\u001b[0m\u001b[0;34m.\u001b[0m\u001b[0m_check_inputs\u001b[0m\u001b[0;34m(\u001b[0m\u001b[0mX\u001b[0m\u001b[0;34m,\u001b[0m \u001b[0min_fit\u001b[0m\u001b[0;34m=\u001b[0m\u001b[0;32mFalse\u001b[0m\u001b[0;34m,\u001b[0m \u001b[0mcopy\u001b[0m\u001b[0;34m=\u001b[0m\u001b[0mself\u001b[0m\u001b[0;34m.\u001b[0m\u001b[0mcopy\u001b[0m\u001b[0;34m)\u001b[0m\u001b[0;34m\u001b[0m\u001b[0;34m\u001b[0m\u001b[0m\n\u001b[1;32m   2753\u001b[0m \u001b[0;34m\u001b[0m\u001b[0m\n\u001b[0;32m-> 2754\u001b[0;31m         \u001b[0;32mreturn\u001b[0m \u001b[0mself\u001b[0m\u001b[0;34m.\u001b[0m\u001b[0m_transform\u001b[0m\u001b[0;34m(\u001b[0m\u001b[0mX\u001b[0m\u001b[0;34m,\u001b[0m \u001b[0minverse\u001b[0m\u001b[0;34m=\u001b[0m\u001b[0;32mFalse\u001b[0m\u001b[0;34m)\u001b[0m\u001b[0;34m\u001b[0m\u001b[0;34m\u001b[0m\u001b[0m\n\u001b[0m\u001b[1;32m   2755\u001b[0m \u001b[0;34m\u001b[0m\u001b[0m\n\u001b[1;32m   2756\u001b[0m     \u001b[0;32mdef\u001b[0m \u001b[0minverse_transform\u001b[0m\u001b[0;34m(\u001b[0m\u001b[0mself\u001b[0m\u001b[0;34m,\u001b[0m \u001b[0mX\u001b[0m\u001b[0;34m)\u001b[0m\u001b[0;34m:\u001b[0m\u001b[0;34m\u001b[0m\u001b[0;34m\u001b[0m\u001b[0m\n",
            "\u001b[0;32m/usr/local/lib/python3.8/dist-packages/sklearn/preprocessing/_data.py\u001b[0m in \u001b[0;36m_transform\u001b[0;34m(self, X, inverse)\u001b[0m\n\u001b[1;32m   2727\u001b[0m         \u001b[0;32melse\u001b[0m\u001b[0;34m:\u001b[0m\u001b[0;34m\u001b[0m\u001b[0;34m\u001b[0m\u001b[0m\n\u001b[1;32m   2728\u001b[0m             \u001b[0;32mfor\u001b[0m \u001b[0mfeature_idx\u001b[0m \u001b[0;32min\u001b[0m \u001b[0mrange\u001b[0m\u001b[0;34m(\u001b[0m\u001b[0mX\u001b[0m\u001b[0;34m.\u001b[0m\u001b[0mshape\u001b[0m\u001b[0;34m[\u001b[0m\u001b[0;36m1\u001b[0m\u001b[0;34m]\u001b[0m\u001b[0;34m)\u001b[0m\u001b[0;34m:\u001b[0m\u001b[0;34m\u001b[0m\u001b[0;34m\u001b[0m\u001b[0m\n\u001b[0;32m-> 2729\u001b[0;31m                 X[:, feature_idx] = self._transform_col(\n\u001b[0m\u001b[1;32m   2730\u001b[0m                     \u001b[0mX\u001b[0m\u001b[0;34m[\u001b[0m\u001b[0;34m:\u001b[0m\u001b[0;34m,\u001b[0m \u001b[0mfeature_idx\u001b[0m\u001b[0;34m]\u001b[0m\u001b[0;34m,\u001b[0m \u001b[0mself\u001b[0m\u001b[0;34m.\u001b[0m\u001b[0mquantiles_\u001b[0m\u001b[0;34m[\u001b[0m\u001b[0;34m:\u001b[0m\u001b[0;34m,\u001b[0m \u001b[0mfeature_idx\u001b[0m\u001b[0;34m]\u001b[0m\u001b[0;34m,\u001b[0m \u001b[0minverse\u001b[0m\u001b[0;34m\u001b[0m\u001b[0;34m\u001b[0m\u001b[0m\n\u001b[1;32m   2731\u001b[0m                 )\n",
            "\u001b[0;32m/usr/local/lib/python3.8/dist-packages/sklearn/preprocessing/_data.py\u001b[0m in \u001b[0;36m_transform_col\u001b[0;34m(self, X_col, quantiles, inverse)\u001b[0m\n\u001b[1;32m   2630\u001b[0m         \u001b[0;32mwith\u001b[0m \u001b[0mnp\u001b[0m\u001b[0;34m.\u001b[0m\u001b[0merrstate\u001b[0m\u001b[0;34m(\u001b[0m\u001b[0minvalid\u001b[0m\u001b[0;34m=\u001b[0m\u001b[0;34m\"ignore\"\u001b[0m\u001b[0;34m)\u001b[0m\u001b[0;34m:\u001b[0m  \u001b[0;31m# hide NaN comparison warnings\u001b[0m\u001b[0;34m\u001b[0m\u001b[0;34m\u001b[0m\u001b[0m\n\u001b[1;32m   2631\u001b[0m             \u001b[0;32mif\u001b[0m \u001b[0moutput_distribution\u001b[0m \u001b[0;34m==\u001b[0m \u001b[0;34m\"normal\"\u001b[0m\u001b[0;34m:\u001b[0m\u001b[0;34m\u001b[0m\u001b[0;34m\u001b[0m\u001b[0m\n\u001b[0;32m-> 2632\u001b[0;31m                 \u001b[0mlower_bounds_idx\u001b[0m \u001b[0;34m=\u001b[0m \u001b[0mX_col\u001b[0m \u001b[0;34m-\u001b[0m \u001b[0mBOUNDS_THRESHOLD\u001b[0m \u001b[0;34m<\u001b[0m \u001b[0mlower_bound_x\u001b[0m\u001b[0;34m\u001b[0m\u001b[0;34m\u001b[0m\u001b[0m\n\u001b[0m\u001b[1;32m   2633\u001b[0m                 \u001b[0mupper_bounds_idx\u001b[0m \u001b[0;34m=\u001b[0m \u001b[0mX_col\u001b[0m \u001b[0;34m+\u001b[0m \u001b[0mBOUNDS_THRESHOLD\u001b[0m \u001b[0;34m>\u001b[0m \u001b[0mupper_bound_x\u001b[0m\u001b[0;34m\u001b[0m\u001b[0;34m\u001b[0m\u001b[0m\n\u001b[1;32m   2634\u001b[0m             \u001b[0;32mif\u001b[0m \u001b[0moutput_distribution\u001b[0m \u001b[0;34m==\u001b[0m \u001b[0;34m\"uniform\"\u001b[0m\u001b[0;34m:\u001b[0m\u001b[0;34m\u001b[0m\u001b[0;34m\u001b[0m\u001b[0m\n",
            "\u001b[0;31mKeyboardInterrupt\u001b[0m: "
          ]
        }
      ]
    },
    {
      "cell_type": "code",
      "source": [
        "test = pd.read_csv(\"/content/test.csv\")\n",
        "predicts = []\n",
        "\n",
        "for game in test.iterrows():\n",
        "  game_info = list(game[1])\n",
        "  team1_id = game_info[2]\n",
        "  team2_id = game_info[3]\n",
        "  map_name = map_dict[game_info[4]]\n",
        "  team1_skill = grp[str(team1_id)+\"/\"+str(map_name)]\n",
        "  team2_skill = grp[str(team2_id)+\"/\"+str(map_name)]\n",
        "  if team1_skill > team2_skill:\n",
        "    print(f\"T1 = {team1_skill}, T2 = {team2_skill}. Predict = 0\")\n",
        "    predicts.append(0)\n",
        "  elif team1_skill < team2_skill:\n",
        "    print(f\"T1 = {team1_skill}, T2 = {team2_skill}. Predict = 1\")\n",
        "    predicts.append(1)\n",
        "  else:\n",
        "    # Если значения скилла равны, я выставляю 0, но надо вводить какие-то показатели на основе которых будет решаться что делать в такой ситуации\n",
        "    print(f\"T1 = {team1_skill}, T2 = {team2_skill}. Predict = хм\")\n",
        "    predicts.append(0)\n",
        "\n",
        "test['who_win'] = predicts\n",
        "\n",
        "test.to_csv(\"predict.csv\")"
      ],
      "metadata": {
        "colab": {
          "base_uri": "https://localhost:8080/"
        },
        "id": "eEahryQwxnVU",
        "outputId": "255ade65-a56f-46b7-d851-f5afaa9a43b5"
      },
      "execution_count": 19,
      "outputs": [
        {
          "output_type": "stream",
          "name": "stdout",
          "text": [
            "T1 = 0.0, T2 = 0.08838822974429857. Predict = 1\n",
            "T1 = 0.18181818452748386, T2 = 0.49999999999999994. Predict = 1\n",
            "T1 = 0.03450023673042587, T2 = 0.49999999999999994. Predict = 1\n",
            "T1 = 0.12121212301832257, T2 = 0.0. Predict = 0\n",
            "T1 = 0.22222222553359136, T2 = 0.8255547838659324. Predict = 1\n",
            "T1 = 0.12005530508809077, T2 = 0.200000003973643. Predict = 1\n",
            "T1 = 0.24242424603664514, T2 = 0.050403142234286914. Predict = 0\n",
            "T1 = 0.200000003973643, T2 = 0.0463803037769363. Predict = 0\n",
            "T1 = 0.10256410447450785, T2 = 0.26666666865348815. Predict = 1\n",
            "T1 = 0.12698412816675883, T2 = 0.0. Predict = 0\n",
            "T1 = 0.07062924216357526, T2 = 0.0. Predict = 0\n",
            "T1 = 0.17777778241369457, T2 = 0.17777778241369457. Predict = хм\n",
            "T1 = 0.0463803037769363, T2 = 0.200000003973643. Predict = 1\n",
            "T1 = 0.10256410447450785, T2 = 0.09998126858141354. Predict = 0\n",
            "T1 = 0.0760907918806367, T2 = 0.12121212301832257. Predict = 1\n",
            "T1 = 0.200000003973643, T2 = 0.20833333333333334. Predict = 1\n",
            "T1 = 0.20833333333333334, T2 = 0.23809524093355453. Predict = 1\n",
            "T1 = 0.16666666666666666, T2 = 0.0. Predict = 0\n",
            "T1 = 0.22222222553359136, T2 = 0.10256410447450785. Predict = 0\n",
            "T1 = 0.26666666865348815, T2 = 0.0. Predict = 0\n",
            "T1 = 0.12330902330530473, T2 = 0.18181818452748386. Predict = 1\n",
            "T1 = 0.22222222553359136, T2 = 0.23809524093355453. Predict = 1\n",
            "T1 = 0.12698412816675883, T2 = 0.20833333333333334. Predict = 1\n",
            "T1 = 0.22222222553359136, T2 = 0.22222222553359136. Predict = хм\n",
            "T1 = 0.31111111177338496, T2 = 0.0. Predict = 0\n",
            "T1 = 0.10256410447450785, T2 = 0.200000003973643. Predict = 1\n",
            "T1 = 0.07062924216357526, T2 = 0.17777778241369457. Predict = 1\n",
            "T1 = 0.07372495935315816, T2 = 0.22222222553359136. Predict = 1\n",
            "T1 = 0.12698412816675883, T2 = 0.17777778241369457. Predict = 1\n",
            "T1 = 0.22222222553359136, T2 = 0.31111111177338496. Predict = 1\n"
          ]
        }
      ]
    }
  ]
}